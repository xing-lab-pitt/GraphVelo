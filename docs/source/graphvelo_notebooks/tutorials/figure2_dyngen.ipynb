{
 "cells": [
  {
   "cell_type": "markdown",
   "metadata": {},
   "source": [
    "# Velocity vector projection by GraphVelo or cosine kernel"
   ]
  },
  {
   "cell_type": "markdown",
   "metadata": {},
   "source": [
    "Comparison of different projection method:\n",
    "1. cosine kernel\n",
    "2. TSP w/ cosine regulation\n",
    "3. TSP\n",
    "\n",
    "Benchmark:\n",
    "1. Ground Truth\n",
    "2. Ground Truth w/ noise in velocity"
   ]
  },
  {
   "cell_type": "code",
   "execution_count": null,
   "metadata": {},
   "outputs": [],
   "source": [
    "import warnings\n",
    "warnings.filterwarnings(\"ignore\")\n",
    "\n",
    "import numpy as np\n",
    "import pandas as pd\n",
    "import dynamo as dyn\n",
    "import scipy.sparse as sp\n",
    "from scipy.stats import ttest_ind\n",
    "from sklearn.metrics import accuracy_score, mean_squared_error\n",
    "\n",
    "import seaborn as sns\n",
    "import matplotlib.pyplot as plt\n",
    "%matplotlib inline\n",
    "\n",
    "from graph_velocity import GraphVelo\n",
    "from tangent_space import corr_kernel, density_corrected_transition_matrix"
   ]
  },
  {
   "cell_type": "code",
   "execution_count": 2,
   "metadata": {},
   "outputs": [],
   "source": [
    "def fit_cos_kernel(adata, ekey='X_raw', vkey='rna_velocity', add_prefix=None):\n",
    "    X = adata.layers[ekey]\n",
    "    V = adata.layers[vkey]\n",
    "    X = X.A if sp.issparse(X) else X\n",
    "    V = V.A if sp.issparse(V) else V\n",
    "    P = corr_kernel(X, V, adata.uns['neighbors']['indices'])\n",
    "    P_dc = density_corrected_transition_matrix(P).A\n",
    "    gvf = dyn.tl.GraphVectorField(P_dc)\n",
    "    if add_prefix is None:\n",
    "        adata.layers['velocity_cos'] = gvf.project_velocity(X)\n",
    "        adata.obsm['cos_pca'] = gvf.project_velocity(adata.obsm['X_pca'])\n",
    "        adata.obsm['cos_dr'] = gvf.project_velocity(adata.obsm['X_dr'])\n",
    "        adata.obsm['cos_umap'] = gvf.project_velocity(adata.obsm['X_umap'])\n",
    "    else:\n",
    "        adata.layers[f'velocity_{add_prefix}'] = gvf.project_velocity(X)\n",
    "        adata.obsm[f'{add_prefix}_pca'] = gvf.project_velocity(adata.obsm['X_pca'])\n",
    "        adata.obsm[f'{add_prefix}_dr'] = gvf.project_velocity(adata.obsm['X_dr'])\n",
    "        adata.obsm[f'{add_prefix}_umap'] = gvf.project_velocity(adata.obsm['X_umap'])\n",
    "\n",
    "def fit_graphvelo(adata, ekey='X_raw', vkey='rna_velocity', add_prefix=None, **kwargs):\n",
    "    gv = GraphVelo(adata, xkey=ekey, vkey=vkey, approx=False)\n",
    "    gv.train(**kwargs)\n",
    "    if add_prefix is None:\n",
    "        adata.layers['velocity_gv'] = gv.project_velocity(adata.layers[ekey])\n",
    "        adata.obsm['gv_pca'] = gv.project_velocity(adata.obsm['X_pca'])\n",
    "        adata.obsm['gv_dr'] = gv.project_velocity(adata.obsm['X_dr'])\n",
    "        adata.obsm['gv_umap'] = gv.project_velocity(adata.obsm['X_umap'])\n",
    "    else:\n",
    "        adata.layers[f'velocity_{add_prefix}'] = gv.project_velocity(adata.layers[ekey])\n",
    "        adata.obsm[f'{add_prefix}_pca'] = gv.project_velocity(adata.obsm['X_pca'])\n",
    "        adata.obsm[f'{add_prefix}_dr'] = gv.project_velocity(adata.obsm['X_dr'])\n",
    "        adata.obsm[f'{add_prefix}_umap'] = gv.project_velocity(adata.obsm['X_umap'])"
   ]
  },
  {
   "cell_type": "code",
   "execution_count": 3,
   "metadata": {},
   "outputs": [
    {
     "data": {
      "text/plain": [
       "AnnData object with n_obs × n_vars = 1000 × 100\n",
       "    obs: 'step_ix', 'simulation_i', 'sim_time'\n",
       "    var: 'module_id', 'basal', 'burn', 'independence', 'color', 'is_tf', 'is_hk', 'transcription_rate', 'splicing_rate', 'translation_rate', 'mrna_halflife', 'protein_halflife', 'mrna_decay_rate', 'protein_decay_rate', 'max_premrna', 'max_mrna', 'max_protein', 'mol_premrna', 'mol_mrna', 'mol_protein'\n",
       "    uns: 'traj_dimred_segments', 'traj_milestone_network', 'traj_progressions'\n",
       "    obsm: 'dimred', 'X_dr'\n",
       "    layers: 'counts_protein', 'counts_spliced', 'counts_unspliced', 'logcounts', 'rna_velocity', 'spliced', 'unspliced', 'X_raw', 'X_log'"
      ]
     },
     "execution_count": 3,
     "metadata": {},
     "output_type": "execute_result"
    }
   ],
   "source": [
    "structure = 'cycle'\n",
    "adata = dyn.read(f'../../data/dyngen/{structure}.h5ad')\n",
    "adata.layers['spliced'] = adata.layers['counts_spliced']\n",
    "adata.layers['unspliced'] = adata.layers['counts_unspliced']\n",
    "adata.layers['X_raw'] = adata.X\n",
    "adata.layers['X_log'] = adata.layers['logcounts']\n",
    "adata.obsm['X_dr'] = adata.obsm['dimred']\n",
    "adata"
   ]
  },
  {
   "cell_type": "code",
   "execution_count": 4,
   "metadata": {},
   "outputs": [
    {
     "name": "stdout",
     "output_type": "stream",
     "text": [
      "|-----> <insert> X_pca to obsm in AnnData Object.\n",
      "|-----> Start computing neighbor graph...\n",
      "|-----------> X_data is None, fetching or recomputing...\n",
      "|-----> fetching X data from layer:None, basis:pca\n",
      "|-----> method arg is None, choosing methods automatically...\n",
      "|-----------> method ball_tree selected\n",
      "|-----> retrieve data for non-linear dimension reduction...\n",
      "|-----> [UMAP] using X_pca with n_pca_components = 30\n",
      "|-----> <insert> X_umap to obsm in AnnData Object.\n",
      "|-----> [UMAP] completed [3.9801s]\n"
     ]
    }
   ],
   "source": [
    "dyn.pp.pca(adata, X_data=adata.layers['X_log'], layer='log')\n",
    "dyn.tl.neighbors(adata, n_neighbors=100)\n",
    "tmp = adata.copy()\n",
    "dyn.tl.reduceDimension(tmp)\n",
    "adata.obsm['X_umap'] = tmp.obsm['X_umap']"
   ]
  },
  {
   "cell_type": "code",
   "execution_count": 5,
   "metadata": {},
   "outputs": [],
   "source": [
    "vkey='rna_velocity'"
   ]
  },
  {
   "cell_type": "code",
   "execution_count": 6,
   "metadata": {},
   "outputs": [
    {
     "name": "stderr",
     "output_type": "stream",
     "text": [
      "Learning Phi in tangent space projection.: 100%|██████████| 1000/1000 [00:09<00:00, 107.81it/s]\n",
      "projecting velocity vector to low dimensional embedding: 100%|██████████| 1000/1000 [00:02<00:00, 466.58it/s]\n",
      "projecting velocity vector to low dimensional embedding: 100%|██████████| 1000/1000 [00:00<00:00, 11562.93it/s]\n",
      "projecting velocity vector to low dimensional embedding: 100%|██████████| 1000/1000 [00:00<00:00, 7764.22it/s]\n",
      "projecting velocity vector to low dimensional embedding: 100%|██████████| 1000/1000 [00:00<00:00, 14083.12it/s]\n",
      "Learning Phi in tangent space projection.: 100%|██████████| 1000/1000 [00:04<00:00, 238.54it/s]\n",
      "projecting velocity vector to low dimensional embedding: 100%|██████████| 1000/1000 [00:02<00:00, 348.38it/s]\n",
      "projecting velocity vector to low dimensional embedding: 100%|██████████| 1000/1000 [00:00<00:00, 7654.44it/s]\n",
      "projecting velocity vector to low dimensional embedding: 100%|██████████| 1000/1000 [00:00<00:00, 8549.65it/s]\n",
      "projecting velocity vector to low dimensional embedding: 100%|██████████| 1000/1000 [00:00<00:00, 13652.04it/s]\n"
     ]
    },
    {
     "name": "stdout",
     "output_type": "stream",
     "text": [
      "|-----> Neither edge weight nor length matrix is provided. Inferring adjacency matrix from `F`.\n",
      "|-----> [projecting velocity vector to low dimensional embedding] in progress: 100.0000%|-----> [projecting velocity vector to low dimensional embedding] completed [3.7543s]\n",
      "|-----> [projecting velocity vector to low dimensional embedding] in progress: 100.0000%|-----> [projecting velocity vector to low dimensional embedding] completed [0.3227s]\n",
      "|-----> [projecting velocity vector to low dimensional embedding] in progress: 100.0000%|-----> [projecting velocity vector to low dimensional embedding] completed [0.1028s]\n",
      "|-----> [projecting velocity vector to low dimensional embedding] in progress: 100.0000%|-----> [projecting velocity vector to low dimensional embedding] completed [0.1263s]\n"
     ]
    }
   ],
   "source": [
    "fit_graphvelo(adata, ekey='X_raw', vkey=vkey, b=0, add_prefix='gv_'+vkey)\n",
    "fit_graphvelo(adata, ekey='X_raw', vkey=vkey, add_prefix='gwc_'+vkey)\n",
    "fit_cos_kernel(adata, ekey='X_raw', vkey=vkey, add_prefix='cos_'+vkey)"
   ]
  },
  {
   "cell_type": "code",
   "execution_count": 7,
   "metadata": {},
   "outputs": [],
   "source": [
    "def add_significance(ax, left: int, right: int, significance: str, level: int = 0, max_y = None, **kwargs):\n",
    "    bracket_level = kwargs.pop(\"bracket_level\", 0.8)\n",
    "    bracket_height = kwargs.pop(\"bracket_height\", 0.02)\n",
    "    text_height = kwargs.pop(\"text_height\", 0.005)\n",
    "    \n",
    "    bottom, top = ax.get_ylim()\n",
    "    y_axis_range = top - bottom if max_y is None else max_y - bottom\n",
    "\n",
    "    bracket_level = (y_axis_range * 0.07 * level) + top * bracket_level\n",
    "    bracket_height = bracket_level - (y_axis_range * bracket_height)\n",
    "\n",
    "    ax.plot(\n",
    "        [left, left, right, right],\n",
    "        [bracket_height, bracket_level, bracket_level, bracket_height], **kwargs\n",
    "    )\n",
    "    \n",
    "    ax.text(\n",
    "        (left + right) * 0.5,\n",
    "        bracket_level + (y_axis_range * text_height),\n",
    "        significance,\n",
    "        ha='center',\n",
    "        va='bottom',\n",
    "        c='k'\n",
    "    )\n",
    "\n",
    "def get_significance(pvalue):\n",
    "    if pvalue < 0.001:\n",
    "        return \"***\"\n",
    "    elif pvalue < 0.01:\n",
    "        return \"**\"\n",
    "    elif pvalue < 0.1:\n",
    "        return \"*\"\n",
    "    else:\n",
    "        return \"n.s.\""
   ]
  },
  {
   "cell_type": "code",
   "execution_count": 8,
   "metadata": {},
   "outputs": [],
   "source": [
    "def cosine(x, y):\n",
    "    return np.inner(x, y) / (np.linalg.norm(x) * np.linalg.norm(y))\n",
    "def residual(x, y):\n",
    "    return np.linalg.norm(x - y)"
   ]
  },
  {
   "cell_type": "code",
   "execution_count": 9,
   "metadata": {},
   "outputs": [],
   "source": [
    "def get_significance(pvalue):\n",
    "    if pvalue < 0.001:\n",
    "        return \"***\"\n",
    "    elif pvalue < 0.01:\n",
    "        return \"**\"\n",
    "    elif pvalue < 0.1:\n",
    "        return \"*\"\n",
    "    else:\n",
    "        return \"n.s.\""
   ]
  },
  {
   "cell_type": "code",
   "execution_count": 10,
   "metadata": {},
   "outputs": [],
   "source": [
    "def get_classification_scores(velo_pred, velo_true, score_func, **kwargs):\n",
    "    n_var = velo_true.shape[1]\n",
    "    velo_pred[np.isnan(velo_pred)] = 0\n",
    "    velo_true[np.isnan(velo_true)] = 0\n",
    "    gv_score = [score_func(velo_pred[:, var_id], velo_true[:, var_id], **kwargs) for var_id in range(n_var)]\n",
    "    return gv_score"
   ]
  },
  {
   "cell_type": "code",
   "execution_count": 11,
   "metadata": {},
   "outputs": [],
   "source": [
    "def permute_rows_nsign(A: np.ndarray, seed=0) -> None:\n",
    "    \"\"\"Permute the entries and randomly switch the sign for each row of a matrix independently.\n",
    "    The function is adapted from velocyto.\n",
    "    Args:\n",
    "        A: A numpy array that will be permuted.\n",
    "    \"\"\"\n",
    "    np.random.seed(seed)\n",
    "    plmi = np.array([+1, -1])\n",
    "    A_ = A.copy()\n",
    "    for i in range(A_.shape[1]):\n",
    "        np.random.shuffle(A_[:, i])\n",
    "        A_[:, i] = A_[:, i] * np.random.choice(plmi, size=A_.shape[0])\n",
    "    return A_"
   ]
  },
  {
   "cell_type": "code",
   "execution_count": 12,
   "metadata": {},
   "outputs": [],
   "source": [
    "adata.layers['velocity_rnd'] = permute_rows_nsign(adata.layers['rna_velocity'].A)"
   ]
  },
  {
   "cell_type": "code",
   "execution_count": 13,
   "metadata": {},
   "outputs": [],
   "source": [
    "palette = {\"GraphVelo\": \"#f15a24\", \"GraphVelo w/ cosine\": \"#459e97\", \"cosine kernel\": \"#ab99e7\", \"random\": \"lightgrey\"}"
   ]
  },
  {
   "cell_type": "code",
   "execution_count": 14,
   "metadata": {},
   "outputs": [
    {
     "data": {
      "image/png": "[encoded data removed]",
      "text/plain": [
       "<Figure size 80x220 with 1 Axes>"
      ]
     },
     "metadata": {
      "image/png": {
       "height": 193,
       "width": 121
      }
     },
     "output_type": "display_data"
    }
   ],
   "source": [
    "rnd_score = get_classification_scores(\n",
    "    velo_true=adata.layers['rna_velocity'].A,\n",
    "    velo_pred=adata.layers[f'velocity_rnd'],\n",
    "    score_func=cosine,\n",
    ")\n",
    "cos_score = get_classification_scores(\n",
    "    velo_true=adata.layers['rna_velocity'].A,\n",
    "    velo_pred=adata.layers[f'velocity_cos_{vkey}'],\n",
    "    score_func=cosine,\n",
    ")\n",
    "gwc_score = get_classification_scores(\n",
    "    velo_true=adata.layers['rna_velocity'].A,\n",
    "    velo_pred=adata.layers[f'velocity_gwc_{vkey}'].A,\n",
    "    score_func=cosine,\n",
    ")\n",
    "gv_score = get_classification_scores(\n",
    "    velo_true=adata.layers['rna_velocity'].A,\n",
    "    velo_pred=adata.layers[f'velocity_gv_{vkey}'].A,\n",
    "    score_func=cosine,\n",
    ")\n",
    "df = pd.DataFrame(\n",
    "    {\n",
    "        \"cosine similarity\":  gv_score + gwc_score + cos_score + rnd_score,\n",
    "        \"Model\":  [\"GraphVelo\"] * adata.n_vars + [\"GraphVelo w/ cosine\"] * adata.n_vars + [\"cosine kernel\"] * adata.n_vars + [\"random\"] * adata.n_vars\n",
    "    }\n",
    ")\n",
    "fig, ax = plt.subplots(figsize=(0.8, 2.2))\n",
    "\n",
    "sns.boxplot(data=df, x=\"Model\", y=\"cosine similarity\", palette=palette, ax=ax, linewidth=0.5, showfliers=False)\n",
    "\n",
    "\n",
    "ttest_res = ttest_ind(gv_score, gwc_score, equal_var=False, alternative=\"greater\")\n",
    "significance = get_significance(ttest_res.pvalue)\n",
    "add_significance(ax=ax, left=0, right=1, significance=significance, lw=0.8, bracket_level=1.1, c=\"k\", level=0)\n",
    "ttest_res = ttest_ind(gv_score, cos_score, equal_var=False, alternative=\"greater\")\n",
    "significance = get_significance(ttest_res.pvalue)\n",
    "add_significance(ax=ax, left=0, right=2, significance=significance, lw=0.8, bracket_level=1.1, c=\"k\", level=0)\n",
    "ttest_res = ttest_ind(gv_score, rnd_score, equal_var=False, alternative=\"greater\")\n",
    "significance = get_significance(ttest_res.pvalue)\n",
    "add_significance(ax=ax, left=0, right=3, significance=significance, lw=0.8, bracket_level=1.1, c=\"k\", level=0)\n",
    "\n",
    "\n",
    "y_min, y_max = ax.get_ylim()\n",
    "ax.set_ylim([y_min, y_max + 0.02])\n",
    "\n",
    "ax.set_yticks([0, 0.5, 1.0])\n",
    "ax.set_yticklabels([0, 0.5, 1.0])\n",
    "ax.set(xlabel=None)\n",
    "plt.xticks(rotation = 45, ha='right') # Rotates X-Axis Ticks by 45-degrees\n",
    "ax.set(xlabel=\"\", xticklabels=\"\")\n",
    "# plt.savefig(dpi=300, transparent=True, fname=f'./figures/{structure}_result/{structure}_cosine_sim.pdf', bbox_inches = \"tight\")\n",
    "plt.show()"
   ]
  },
  {
   "cell_type": "code",
   "execution_count": 15,
   "metadata": {},
   "outputs": [
    {
     "data": {
      "image/png": "[encoded data removed]",
      "text/plain": [
       "<Figure size 80x220 with 1 Axes>"
      ]
     },
     "metadata": {
      "image/png": {
       "height": 195,
       "width": 118
      }
     },
     "output_type": "display_data"
    }
   ],
   "source": [
    "rnd_score = get_classification_scores(\n",
    "    velo_true=adata.layers['rna_velocity'].A,\n",
    "    velo_pred=adata.layers[f'velocity_rnd'],\n",
    "    score_func=mean_squared_error,\n",
    "    squared=False,\n",
    ")\n",
    "cos_score = get_classification_scores(\n",
    "    velo_true=adata.layers['rna_velocity'].A,\n",
    "    velo_pred=adata.layers[f'velocity_cos_{vkey}'],\n",
    "    score_func=mean_squared_error,\n",
    "    squared=False,\n",
    ")\n",
    "gwc_score = get_classification_scores(\n",
    "    velo_true=adata.layers['rna_velocity'].A,\n",
    "    velo_pred=adata.layers[f'velocity_gwc_{vkey}'].A,\n",
    "    score_func=mean_squared_error,\n",
    "    squared=False,\n",
    ")\n",
    "gv_score = get_classification_scores(\n",
    "    velo_true=adata.layers['rna_velocity'].A,\n",
    "    velo_pred=adata.layers[f'velocity_gv_{vkey}'].A,\n",
    "    score_func=mean_squared_error,\n",
    "    squared=False,\n",
    ")\n",
    "df = pd.DataFrame(\n",
    "    {\n",
    "        \"RMSE\":   gv_score + gwc_score + cos_score + rnd_score,\n",
    "        \"Model\":  [\"GraphVelo\"] * adata.n_vars + [\"GraphVelo w/ cosine\"] * adata.n_vars + [\"cosine kernel\"] * adata.n_vars + [\"random\"] * adata.n_vars\n",
    "    }\n",
    ")\n",
    "fig, ax = plt.subplots(figsize=(0.8, 2.2))\n",
    "\n",
    "sns.boxplot(data=df, x=\"Model\", y=\"RMSE\", palette=palette, ax=ax, linewidth=0.5, showfliers=False)\n",
    "\n",
    "\n",
    "ttest_res = ttest_ind(gv_score, gwc_score, equal_var=False, alternative=\"less\")\n",
    "significance = get_significance(ttest_res.pvalue)\n",
    "add_significance(\n",
    "    ax=ax, left=0, right=1, significance=significance, lw=0.8, bracket_level=1.1, c=\"k\", level=0\n",
    ")\n",
    "ttest_res = ttest_ind(gv_score, cos_score, equal_var=False, alternative=\"less\")\n",
    "significance = get_significance(ttest_res.pvalue)\n",
    "add_significance(\n",
    "    ax=ax, left=0, right=2, significance=significance, lw=0.8, bracket_level=1.1, c=\"k\", level=0\n",
    ")\n",
    "ttest_res = ttest_ind(gv_score, rnd_score, equal_var=False, alternative=\"less\")\n",
    "significance = get_significance(ttest_res.pvalue)\n",
    "add_significance(\n",
    "    ax=ax, left=0, right=3, significance=significance, lw=0.8, bracket_level=1.1, c=\"k\", level=0\n",
    ")\n",
    "\n",
    "y_min, y_max = ax.get_ylim()\n",
    "# ax.set_ylim([y_min, 5])\n",
    "\n",
    "# ax.set_yticks([0, 10, 50])\n",
    "# ax.set_yticklabels([0, 10, 50])\n",
    "ax.set(xlabel=None)\n",
    "plt.xticks(rotation = 45, ha='right') # Rotates X-Axis Ticks by 45-degrees\n",
    "ax.set(xlabel=\"\", xticklabels=\"\")\n",
    "# plt.savefig(dpi=300, transparent=True, fname=f'./figures/{structure}_result/{structure}_rmse.pdf', bbox_inches = \"tight\")\n",
    "plt.show()"
   ]
  },
  {
   "cell_type": "code",
   "execution_count": 16,
   "metadata": {},
   "outputs": [
    {
     "data": {
      "image/png": "[encoded data removed]",
      "text/plain": [
       "<Figure size 80x220 with 1 Axes>"
      ]
     },
     "metadata": {
      "image/png": {
       "height": 192,
       "width": 121
      }
     },
     "output_type": "display_data"
    }
   ],
   "source": [
    "rnd_score = get_classification_scores(\n",
    "    velo_true=np.sign(adata.layers['rna_velocity'].A),\n",
    "    velo_pred=np.sign(adata.layers[f'velocity_rnd']),\n",
    "    score_func=accuracy_score,\n",
    ")\n",
    "cos_score = get_classification_scores(\n",
    "    velo_true=np.sign(np.sign(adata.layers['rna_velocity'].A)),\n",
    "    velo_pred=np.sign(adata.layers[f'velocity_cos_{vkey}']),\n",
    "    score_func=accuracy_score,\n",
    ")\n",
    "gwc_score = get_classification_scores(\n",
    "    velo_true=np.sign(adata.layers['rna_velocity'].A),\n",
    "    velo_pred=np.sign(adata.layers[f'velocity_gwc_{vkey}'].A),\n",
    "    score_func=accuracy_score,\n",
    ")\n",
    "gv_score = get_classification_scores(\n",
    "    velo_true=np.sign(adata.layers['rna_velocity'].A),\n",
    "    velo_pred=np.sign(adata.layers[f'velocity_gv_{vkey}'].A),\n",
    "    score_func=accuracy_score,\n",
    ")\n",
    "df = pd.DataFrame(\n",
    "    {\n",
    "        \"Accuracy\":  gv_score + gwc_score + cos_score + rnd_score,\n",
    "        \"Model\":  [\"GraphVelo\"] * adata.n_vars + [\"GraphVelo w/ cosine\"] * adata.n_vars + [\"cosine kernel\"] * adata.n_vars + [\"random\"] * adata.n_vars\n",
    "    }\n",
    ")\n",
    "fig, ax = plt.subplots(figsize=(0.8, 2.2))\n",
    "\n",
    "sns.boxplot(data=df, x=\"Model\", y=\"Accuracy\", palette=palette, ax=ax, linewidth=0.5, showfliers=False)\n",
    "\n",
    "\n",
    "ttest_res = ttest_ind(gv_score, gwc_score, equal_var=False, alternative=\"greater\")\n",
    "significance = get_significance(ttest_res.pvalue)\n",
    "add_significance(\n",
    "    ax=ax, left=0, right=1, significance=significance, lw=0.8, bracket_level=1.1, c=\"k\", level=0\n",
    ")\n",
    "ttest_res = ttest_ind(gv_score, cos_score, equal_var=False, alternative=\"greater\")\n",
    "significance = get_significance(ttest_res.pvalue)\n",
    "add_significance(\n",
    "    ax=ax, left=0, right=2, significance=significance, lw=0.8, bracket_level=1.1, c=\"k\", level=0\n",
    ")\n",
    "ttest_res = ttest_ind(gv_score, rnd_score, equal_var=False, alternative=\"greater\")\n",
    "significance = get_significance(ttest_res.pvalue)\n",
    "add_significance(\n",
    "    ax=ax, left=0, right=3, significance=significance, lw=0.8, bracket_level=1.1, c=\"k\", level=0\n",
    ")\n",
    "\n",
    "y_min, y_max = ax.get_ylim()\n",
    "ax.set_ylim([y_min, y_max+0.2])\n",
    "\n",
    "ax.set_yticks([0, 0.5, 1])\n",
    "ax.set_yticklabels([0, 0.5, 1])\n",
    "ax.set(xlabel=None)\n",
    "plt.xticks(rotation = 45, ha='right') # Rotates X-Axis Ticks by 45-degrees\n",
    "ax.set(xlabel=\"\", xticklabels=\"\")\n",
    "# plt.savefig(dpi=300, transparent=True, fname=f'./figures/{structure}_result/{structure}_accuracy.pdf', bbox_inches = \"tight\")\n",
    "plt.show()"
   ]
  }
 ],
 "metadata": {
  "kernelspec": {
   "display_name": "graphvelo",
   "language": "python",
   "name": "python3"
  },
  "language_info": {
   "codemirror_mode": {
    "name": "ipython",
    "version": 3
   },
   "file_extension": ".py",
   "mimetype": "text/x-python",
   "name": "python",
   "nbconvert_exporter": "python",
   "pygments_lexer": "ipython3",
   "version": "3.8.18"
  }
 },
 "nbformat": 4,
 "nbformat_minor": 2
}
