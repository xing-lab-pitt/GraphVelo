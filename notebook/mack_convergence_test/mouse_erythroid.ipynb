{
 "cells": [
  {
   "cell_type": "code",
   "execution_count": null,
   "metadata": {},
   "outputs": [],
   "source": [
    "import sys\n",
    "sys.path.insert(0, \"../..\")\n",
    "from paths import FIG_DIR\n",
    "from graphvelo.graph_velocity import GraphVelo\n",
    "from graphvelo.metrics import cross_boundary_correctness\n",
    "\n",
    "import numpy as np\n",
    "import scanpy as sc\n",
    "import pandas as pd\n",
    "import seaborn as sns\n",
    "import matplotlib.pyplot as plt"
   ]
  },
  {
   "cell_type": "code",
   "execution_count": null,
   "metadata": {},
   "outputs": [
    {
     "data": {
      "text/plain": [
       "AnnData object with n_obs × n_vars = 9815 × 2000\n",
       "    obs: 'sample', 'stage', 'sequencing.batch', 'theiler', 'celltype', 'initial_size_unspliced', 'initial_size_spliced', 'initial_size', 'n_counts', 'velocity_self_transition', 'root_cells', 'end_points', 'velocity_pseudotime', 'latent_time'\n",
       "    var: 'Accession', 'Chromosome', 'End', 'Start', 'Strand', 'MURK_gene', 'Δm', 'scaled Δm', 'gene_count_corr', 'means', 'dispersions', 'dispersions_norm', 'highly_variable', 'fit_r2', 'fit_alpha', 'fit_beta', 'fit_gamma', 'fit_t_', 'fit_scaling', 'fit_std_u', 'fit_std_s', 'fit_likelihood', 'fit_u0', 'fit_s0', 'fit_pval_steady', 'fit_steady_u', 'fit_steady_s', 'fit_variance', 'fit_alignment_scaling', 'velocity_genes', 'mack_score'\n",
       "    uns: 'celltype_colors', 'gv_params', 'log1p', 'neighbors', 'pca', 'recover_dynamics', 'velocity_graph', 'velocity_graph_neg', 'velocity_params'\n",
       "    obsm: 'X_pca', 'X_umap', 'gv_pca', 'gv_umap', 'velocity_umap'\n",
       "    varm: 'PCs', 'loss'\n",
       "    layers: 'Ms', 'Mu', 'fit_t', 'fit_tau', 'fit_tau_', 'spliced', 'unspliced', 'velocity', 'velocity_gv', 'velocity_u'\n",
       "    obsp: 'connectivities', 'distances', 'gv'"
      ]
     },
     "execution_count": 2,
     "metadata": {},
     "output_type": "execute_result"
    }
   ],
   "source": [
    "adata = sc.read('mouse_ery_gv.h5ad')\n",
    "adata"
   ]
  },
  {
   "cell_type": "code",
   "execution_count": 3,
   "metadata": {},
   "outputs": [],
   "source": [
    "edges = [['Blood progenitors 1', 'Blood progenitors 2'], ['Blood progenitors 2', 'Erythroid1'], ['Erythroid1', 'Erythroid2'], ['Erythroid2', 'Erythroid3']]"
   ]
  },
  {
   "cell_type": "code",
   "execution_count": 4,
   "metadata": {},
   "outputs": [],
   "source": [
    "def permute_velo(V):\n",
    "    np.random.seed(0)\n",
    "    plmi = np.array([+1, -1])\n",
    "    for i in range(V.shape[1]):\n",
    "        np.random.shuffle(V[:, i])\n",
    "        V[:, i] = V[:, i] * np.random.choice(plmi, size=V.shape[0])"
   ]
  },
  {
   "cell_type": "code",
   "execution_count": 5,
   "metadata": {},
   "outputs": [
    {
     "name": "stdout",
     "output_type": "stream",
     "text": [
      "-----------------------------\n",
      "Train GraphVelo with top 100 mack genes.\n"
     ]
    },
    {
     "name": "stderr",
     "output_type": "stream",
     "text": [
      "Learning Phi in tangent space projection.: 100%|██████████| 9815/9815 [00:07<00:00, 1306.23it/s]\n",
      "projecting velocity vector to low dimensional embedding: 100%|██████████| 9815/9815 [00:03<00:00, 3136.49it/s]\n"
     ]
    },
    {
     "name": "stdout",
     "output_type": "stream",
     "text": [
      "-----------------------------\n",
      "Train GraphVelo with top 150 mack genes.\n"
     ]
    },
    {
     "name": "stderr",
     "output_type": "stream",
     "text": [
      "Learning Phi in tangent space projection.: 100%|██████████| 9815/9815 [00:04<00:00, 2061.77it/s]\n",
      "projecting velocity vector to low dimensional embedding: 100%|██████████| 9815/9815 [00:02<00:00, 4464.95it/s]\n"
     ]
    },
    {
     "name": "stdout",
     "output_type": "stream",
     "text": [
      "-----------------------------\n",
      "Train GraphVelo with top 200 mack genes.\n"
     ]
    },
    {
     "name": "stderr",
     "output_type": "stream",
     "text": [
      "Learning Phi in tangent space projection.: 100%|██████████| 9815/9815 [00:05<00:00, 1938.21it/s]\n",
      "projecting velocity vector to low dimensional embedding: 100%|██████████| 9815/9815 [00:02<00:00, 3807.56it/s]\n"
     ]
    },
    {
     "name": "stdout",
     "output_type": "stream",
     "text": [
      "-----------------------------\n",
      "Train GraphVelo with top 250 mack genes.\n"
     ]
    },
    {
     "name": "stderr",
     "output_type": "stream",
     "text": [
      "Learning Phi in tangent space projection.: 100%|██████████| 9815/9815 [00:05<00:00, 1879.77it/s]\n",
      "projecting velocity vector to low dimensional embedding: 100%|██████████| 9815/9815 [00:02<00:00, 4318.09it/s]\n"
     ]
    },
    {
     "name": "stdout",
     "output_type": "stream",
     "text": [
      "-----------------------------\n",
      "Train GraphVelo with top 300 mack genes.\n"
     ]
    },
    {
     "name": "stderr",
     "output_type": "stream",
     "text": [
      "Learning Phi in tangent space projection.: 100%|██████████| 9815/9815 [00:05<00:00, 1823.74it/s]\n",
      "projecting velocity vector to low dimensional embedding: 100%|██████████| 9815/9815 [00:02<00:00, 4376.31it/s]\n"
     ]
    },
    {
     "name": "stdout",
     "output_type": "stream",
     "text": [
      "-----------------------------\n",
      "Train GraphVelo with top 350 mack genes.\n"
     ]
    },
    {
     "name": "stderr",
     "output_type": "stream",
     "text": [
      "Learning Phi in tangent space projection.: 100%|██████████| 9815/9815 [00:05<00:00, 1781.93it/s]\n",
      "projecting velocity vector to low dimensional embedding: 100%|██████████| 9815/9815 [00:02<00:00, 4080.51it/s]\n"
     ]
    },
    {
     "name": "stdout",
     "output_type": "stream",
     "text": [
      "-----------------------------\n",
      "Train GraphVelo with top 400 mack genes.\n"
     ]
    },
    {
     "name": "stderr",
     "output_type": "stream",
     "text": [
      "Learning Phi in tangent space projection.: 100%|██████████| 9815/9815 [00:05<00:00, 1824.93it/s]\n",
      "projecting velocity vector to low dimensional embedding: 100%|██████████| 9815/9815 [00:02<00:00, 4636.49it/s]\n"
     ]
    },
    {
     "name": "stdout",
     "output_type": "stream",
     "text": [
      "-----------------------------\n",
      "Train GraphVelo with top 450 mack genes.\n"
     ]
    },
    {
     "name": "stderr",
     "output_type": "stream",
     "text": [
      "Learning Phi in tangent space projection.: 100%|██████████| 9815/9815 [00:06<00:00, 1566.52it/s]\n",
      "projecting velocity vector to low dimensional embedding: 100%|██████████| 9815/9815 [00:02<00:00, 3366.14it/s]\n"
     ]
    }
   ],
   "source": [
    "sim = []\n",
    "dist = []\n",
    "ns = np.linspace(100, 450, 8, dtype=int)\n",
    "mask = adata.var['velocity_genes'].values\n",
    "score_list = []\n",
    "for n in ns:\n",
    "    print(\"-----------------------------\")\n",
    "    print(f\"Train GraphVelo with top {n} mack genes.\")\n",
    "\n",
    "    gene_subset = adata.var['mack_score'].sort_values(ascending=False)[:n].index.to_list()\n",
    "    gv = GraphVelo(adata, gene_subset=gene_subset)\n",
    "    gv.train()\n",
    "    adata.layers['velocity_gv'] = gv.project_velocity(adata.layers['Ms'])\n",
    "    cbc = cross_boundary_correctness(adata, cluster_key='celltype', cluster_edges=edges, xkey='Ms', vkey='velocity_gv', basis='raw',  return_raw=True)\n",
    "    score = np.array([j for i in cbc.values() for j in i])\n",
    "    score_list.append(score)\n",
    "\n",
    "cbc = cross_boundary_correctness(adata, cluster_key='celltype', cluster_edges=edges, xkey='Ms', vkey='velocity', basis='raw',  return_raw=True)\n",
    "score = np.array([j for i in cbc.values() for j in i])\n",
    "score_list.append(score)\n",
    "\n",
    "adata.layers['velocity_rnd'] = adata.layers['velocity'].copy()\n",
    "permute_velo(adata.layers['velocity_rnd'])\n",
    "cbc = cross_boundary_correctness(adata, cluster_key='celltype', cluster_edges=edges, xkey='Ms', vkey='velocity_rnd', basis='raw',  return_raw=True)\n",
    "score = np.array([j for i in cbc.values() for j in i])\n",
    "score_list.append(score)"
   ]
  },
  {
   "cell_type": "code",
   "execution_count": 6,
   "metadata": {},
   "outputs": [],
   "source": [
    "cbc_df = pd.DataFrame(\n",
    "    np.vstack((\n",
    "        score_list\n",
    "    )).T, columns=ns.tolist()+['scVelo', 'random']\n",
    ")"
   ]
  },
  {
   "cell_type": "code",
   "execution_count": 7,
   "metadata": {},
   "outputs": [],
   "source": [
    "cbc_df_mlt = cbc_df.melt()\n",
    "cbc_df_mlt.columns = ['n_top_genes', 'CBC score']"
   ]
  },
  {
   "cell_type": "code",
   "execution_count": 8,
   "metadata": {},
   "outputs": [
    {
     "data": {
      "image/png": "[encoded data removed]",
      "text/plain": [
       "<Figure size 500x300 with 2 Axes>"
      ]
     },
     "metadata": {},
     "output_type": "display_data"
    }
   ],
   "source": [
    "import matplotlib.cm as cm\n",
    "import matplotlib.colors as mcolors\n",
    "\n",
    "cmap = plt.get_cmap('Greens_r')\n",
    "norm = mcolors.Normalize(vmin=0, vmax=2000)\n",
    "\n",
    "# Build a palette dictionary mapping each group to a hex color.\n",
    "# The mean values are normalized to [0,1] and then mapped to a color.\n",
    "palette_dict = {}\n",
    "for n in ns:\n",
    "    rgba = cmap(norm(n))\n",
    "    palette_dict[str(n)] = mcolors.to_hex(rgba)\n",
    "\n",
    "palette_dict['scVelo'] = 'grey'\n",
    "palette_dict['random'] = 'grey'\n",
    "\n",
    "# Create the figure and boxplot using the computed palette\n",
    "fig, ax = plt.subplots(nrows=1, ncols=1, figsize=(5, 3))\n",
    "sns.boxplot(\n",
    "    x=\"n_top_genes\", \n",
    "    y=\"CBC score\", \n",
    "    data=cbc_df_mlt, \n",
    "    ax=ax, \n",
    "    linewidth=0.5, \n",
    "    showfliers=False,\n",
    "    palette=palette_dict\n",
    ")\n",
    "\n",
    "sm = cm.ScalarMappable(norm=norm, cmap='Greens_r')\n",
    "cbar = plt.colorbar(sm, ax=ax)\n",
    "\n",
    "ax.set_xlabel('Number of top MacK genes', fontsize=12)\n",
    "plt.xticks(rotation=36, ha='right', fontsize=12)\n",
    "plt.yticks([-0.5, 0, 0.5, 1], fontsize=12)\n",
    "plt.ylabel('CBC score', fontsize=12)\n",
    "\n",
    "plt.tight_layout()\n",
    "plt.savefig(str(FIG_DIR)+'/suppl_figures_mouse_ery/compare_top_mack.pdf', dpi=300, transparent=True)\n",
    "plt.show()"
   ]
  }
 ],
 "metadata": {
  "kernelspec": {
   "display_name": "gv-reprod",
   "language": "python",
   "name": "python3"
  },
  "language_info": {
   "codemirror_mode": {
    "name": "ipython",
    "version": 3
   },
   "file_extension": ".py",
   "mimetype": "text/x-python",
   "name": "python",
   "nbconvert_exporter": "python",
   "pygments_lexer": "ipython3",
   "version": "3.8.20"
  }
 },
 "nbformat": 4,
 "nbformat_minor": 2
}
